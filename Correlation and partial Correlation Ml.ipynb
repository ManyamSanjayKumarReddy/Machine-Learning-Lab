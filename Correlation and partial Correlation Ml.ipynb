{
 "cells": [
  {
   "cell_type": "markdown",
   "id": "8090328b",
   "metadata": {},
   "source": [
    "**2. R2 and R ( Partial correlation)**"
   ]
  },
  {
   "cell_type": "markdown",
   "id": "bee02884",
   "metadata": {},
   "source": [
    "**In fact, simple correlation mainly focuses on finding the influence of each variable on the other.**\n",
    "\n",
    "**Whereas partial_correlation is used to find the refined relationship between two variables with the effect of the other influencing variables being excluded/controlled.**"
   ]
  },
  {
   "cell_type": "markdown",
   "id": "4fbeba6b",
   "metadata": {},
   "source": [
    "**Weight Detection: The variables can be quantity of food, weight increase, calories. This technique can be used to find the relationship between the quantity of food, weight increase, and the variable being controlled is calories.**"
   ]
  },
  {
   "cell_type": "code",
   "execution_count": 1,
   "id": "987cb8c4",
   "metadata": {},
   "outputs": [],
   "source": [
    "import pandas as pd\n",
    "import matplotlib.pyplot as plt"
   ]
  },
  {
   "cell_type": "code",
   "execution_count": 2,
   "id": "3f434779",
   "metadata": {},
   "outputs": [
    {
     "data": {
      "text/html": [
       "<div>\n",
       "<style scoped>\n",
       "    .dataframe tbody tr th:only-of-type {\n",
       "        vertical-align: middle;\n",
       "    }\n",
       "\n",
       "    .dataframe tbody tr th {\n",
       "        vertical-align: top;\n",
       "    }\n",
       "\n",
       "    .dataframe thead th {\n",
       "        text-align: right;\n",
       "    }\n",
       "</style>\n",
       "<table border=\"1\" class=\"dataframe\">\n",
       "  <thead>\n",
       "    <tr style=\"text-align: right;\">\n",
       "      <th></th>\n",
       "      <th>A</th>\n",
       "      <th>B</th>\n",
       "      <th>Z</th>\n",
       "    </tr>\n",
       "  </thead>\n",
       "  <tbody>\n",
       "    <tr>\n",
       "      <th>0</th>\n",
       "      <td>4</td>\n",
       "      <td>1</td>\n",
       "      <td>1</td>\n",
       "    </tr>\n",
       "    <tr>\n",
       "      <th>1</th>\n",
       "      <td>2</td>\n",
       "      <td>2</td>\n",
       "      <td>2</td>\n",
       "    </tr>\n",
       "    <tr>\n",
       "      <th>2</th>\n",
       "      <td>2</td>\n",
       "      <td>2</td>\n",
       "      <td>3</td>\n",
       "    </tr>\n",
       "    <tr>\n",
       "      <th>3</th>\n",
       "      <td>1</td>\n",
       "      <td>4</td>\n",
       "      <td>4</td>\n",
       "    </tr>\n",
       "    <tr>\n",
       "      <th>4</th>\n",
       "      <td>8</td>\n",
       "      <td>9</td>\n",
       "      <td>1</td>\n",
       "    </tr>\n",
       "    <tr>\n",
       "      <th>5</th>\n",
       "      <td>6</td>\n",
       "      <td>8</td>\n",
       "      <td>2</td>\n",
       "    </tr>\n",
       "    <tr>\n",
       "      <th>6</th>\n",
       "      <td>9</td>\n",
       "      <td>9</td>\n",
       "      <td>3</td>\n",
       "    </tr>\n",
       "    <tr>\n",
       "      <th>7</th>\n",
       "      <td>8</td>\n",
       "      <td>6</td>\n",
       "      <td>4</td>\n",
       "    </tr>\n",
       "    <tr>\n",
       "      <th>8</th>\n",
       "      <td>11</td>\n",
       "      <td>14</td>\n",
       "      <td>1</td>\n",
       "    </tr>\n",
       "    <tr>\n",
       "      <th>9</th>\n",
       "      <td>13</td>\n",
       "      <td>12</td>\n",
       "      <td>2</td>\n",
       "    </tr>\n",
       "  </tbody>\n",
       "</table>\n",
       "</div>"
      ],
      "text/plain": [
       "    A   B  Z\n",
       "0   4   1  1\n",
       "1   2   2  2\n",
       "2   2   2  3\n",
       "3   1   4  4\n",
       "4   8   9  1\n",
       "5   6   8  2\n",
       "6   9   9  3\n",
       "7   8   6  4\n",
       "8  11  14  1\n",
       "9  13  12  2"
      ]
     },
     "execution_count": 2,
     "metadata": {},
     "output_type": "execute_result"
    }
   ],
   "source": [
    "df = pd.read_csv(\"Corr_data.csv\")\n",
    "df.head(10)"
   ]
  },
  {
   "cell_type": "code",
   "execution_count": 3,
   "id": "5d06fc89",
   "metadata": {},
   "outputs": [
    {
     "data": {
      "text/plain": [
       "(12, 3)"
      ]
     },
     "execution_count": 3,
     "metadata": {},
     "output_type": "execute_result"
    }
   ],
   "source": [
    "df.shape"
   ]
  },
  {
   "cell_type": "code",
   "execution_count": 4,
   "id": "91e4c696",
   "metadata": {},
   "outputs": [
    {
     "data": {
      "text/plain": [
       "Text(0, 0.5, 'B')"
      ]
     },
     "execution_count": 4,
     "metadata": {},
     "output_type": "execute_result"
    },
    {
     "data": {
      "image/png": "[encoded data removed]",
      "text/plain": [
       "<Figure size 432x288 with 1 Axes>"
      ]
     },
     "metadata": {
      "needs_background": "light"
     },
     "output_type": "display_data"
    }
   ],
   "source": [
    "# Scatterplot to understand the relationship\n",
    "plt.plot(df[\"A\"],df[\"B\"],'ro')\n",
    "plt.xlabel(\"A\")\n",
    "plt.ylabel(\"B\")"
   ]
  },
  {
   "cell_type": "code",
   "execution_count": 5,
   "id": "ec3cc3dc",
   "metadata": {},
   "outputs": [
    {
     "data": {
      "text/html": [
       "<div>\n",
       "<style scoped>\n",
       "    .dataframe tbody tr th:only-of-type {\n",
       "        vertical-align: middle;\n",
       "    }\n",
       "\n",
       "    .dataframe tbody tr th {\n",
       "        vertical-align: top;\n",
       "    }\n",
       "\n",
       "    .dataframe thead th {\n",
       "        text-align: right;\n",
       "    }\n",
       "</style>\n",
       "<table border=\"1\" class=\"dataframe\">\n",
       "  <thead>\n",
       "    <tr style=\"text-align: right;\">\n",
       "      <th></th>\n",
       "      <th>A</th>\n",
       "      <th>B</th>\n",
       "      <th>Z</th>\n",
       "    </tr>\n",
       "  </thead>\n",
       "  <tbody>\n",
       "    <tr>\n",
       "      <th>A</th>\n",
       "      <td>1.000000</td>\n",
       "      <td>0.909556</td>\n",
       "      <td>0.017213</td>\n",
       "    </tr>\n",
       "    <tr>\n",
       "      <th>B</th>\n",
       "      <td>0.909556</td>\n",
       "      <td>1.000000</td>\n",
       "      <td>-0.033710</td>\n",
       "    </tr>\n",
       "    <tr>\n",
       "      <th>Z</th>\n",
       "      <td>0.017213</td>\n",
       "      <td>-0.033710</td>\n",
       "      <td>1.000000</td>\n",
       "    </tr>\n",
       "  </tbody>\n",
       "</table>\n",
       "</div>"
      ],
      "text/plain": [
       "          A         B         Z\n",
       "A  1.000000  0.909556  0.017213\n",
       "B  0.909556  1.000000 -0.033710\n",
       "Z  0.017213 -0.033710  1.000000"
      ]
     },
     "execution_count": 5,
     "metadata": {},
     "output_type": "execute_result"
    }
   ],
   "source": [
    "# Calculate pearson correlation aka correlation\n",
    "df.corr()"
   ]
  },
  {
   "cell_type": "code",
   "execution_count": 6,
   "id": "d85962fa",
   "metadata": {},
   "outputs": [],
   "source": [
    "df2 = df.corr()"
   ]
  },
  {
   "cell_type": "code",
   "execution_count": 7,
   "id": "0837f9f9",
   "metadata": {},
   "outputs": [
    {
     "data": {
      "text/plain": [
       "Index(['A', 'B', 'Z'], dtype='object')"
      ]
     },
     "execution_count": 7,
     "metadata": {},
     "output_type": "execute_result"
    }
   ],
   "source": [
    "df2.columns"
   ]
  },
  {
   "cell_type": "code",
   "execution_count": 8,
   "id": "cd06a1bb",
   "metadata": {},
   "outputs": [],
   "source": [
    "r_AB = df2.loc['A', 'B']"
   ]
  },
  {
   "cell_type": "code",
   "execution_count": 9,
   "id": "25c89e61",
   "metadata": {
    "scrolled": true
   },
   "outputs": [
    {
     "data": {
      "text/plain": [
       "0.9095557523685209"
      ]
     },
     "execution_count": 9,
     "metadata": {},
     "output_type": "execute_result"
    }
   ],
   "source": [
    "r_AB # Correlation for A ~ B (r)"
   ]
  },
  {
   "cell_type": "code",
   "execution_count": 10,
   "id": "2077571e",
   "metadata": {},
   "outputs": [],
   "source": [
    "r_AZ = df2.loc['A', 'Z']"
   ]
  },
  {
   "cell_type": "code",
   "execution_count": 11,
   "id": "f6d02621",
   "metadata": {},
   "outputs": [
    {
     "data": {
      "text/plain": [
       "0.01721325931647704"
      ]
     },
     "execution_count": 11,
     "metadata": {},
     "output_type": "execute_result"
    }
   ],
   "source": [
    "r_AZ  # Correlation for A ~ Z (r)"
   ]
  },
  {
   "cell_type": "code",
   "execution_count": 12,
   "id": "5746a850",
   "metadata": {},
   "outputs": [],
   "source": [
    "r_BZ = df2.loc['B', 'Z']"
   ]
  },
  {
   "cell_type": "code",
   "execution_count": 13,
   "id": "4557279d",
   "metadata": {
    "scrolled": true
   },
   "outputs": [
    {
     "data": {
      "text/plain": [
       "-0.033709993123162446"
      ]
     },
     "execution_count": 13,
     "metadata": {},
     "output_type": "execute_result"
    }
   ],
   "source": [
    "r_BZ  # Correlation for B ~ Z (r)"
   ]
  },
  {
   "cell_type": "code",
   "execution_count": 14,
   "id": "b97edb4e",
   "metadata": {},
   "outputs": [],
   "source": [
    "R2_AB = r_AB*r_AB"
   ]
  },
  {
   "cell_type": "code",
   "execution_count": 15,
   "id": "35f05c83",
   "metadata": {
    "scrolled": true
   },
   "outputs": [
    {
     "data": {
      "text/plain": [
       "0.8272916666666662"
      ]
     },
     "execution_count": 15,
     "metadata": {},
     "output_type": "execute_result"
    }
   ],
   "source": [
    "R2_AB # R^2 for A ~ B "
   ]
  },
  {
   "cell_type": "code",
   "execution_count": 16,
   "id": "50ff871c",
   "metadata": {},
   "outputs": [],
   "source": [
    "R2_AZ = r_AZ*r_AZ"
   ]
  },
  {
   "cell_type": "code",
   "execution_count": 17,
   "id": "dc5c91dc",
   "metadata": {},
   "outputs": [
    {
     "data": {
      "text/plain": [
       "0.00029629629629628366"
      ]
     },
     "execution_count": 17,
     "metadata": {},
     "output_type": "execute_result"
    }
   ],
   "source": [
    "R2_AZ # R^2 for A ~ Z "
   ]
  },
  {
   "cell_type": "code",
   "execution_count": 18,
   "id": "3bef9f0c",
   "metadata": {},
   "outputs": [],
   "source": [
    "R2_BZ = r_BZ*r_BZ"
   ]
  },
  {
   "cell_type": "code",
   "execution_count": 19,
   "id": "c2ef82b6",
   "metadata": {},
   "outputs": [
    {
     "data": {
      "text/plain": [
       "0.0011363636363636595"
      ]
     },
     "execution_count": 19,
     "metadata": {},
     "output_type": "execute_result"
    }
   ],
   "source": [
    "R2_BZ # R^2 for B ~ Z "
   ]
  },
  {
   "cell_type": "code",
   "execution_count": 20,
   "id": "45eac6de",
   "metadata": {},
   "outputs": [
    {
     "data": {
      "text/plain": [
       "<AxesSubplot:>"
      ]
     },
     "execution_count": 20,
     "metadata": {},
     "output_type": "execute_result"
    },
    {
     "data": {
      "image/png": "[encoded data removed]",
      "text/plain": [
       "<Figure size 432x288 with 2 Axes>"
      ]
     },
     "metadata": {
      "needs_background": "light"
     },
     "output_type": "display_data"
    }
   ],
   "source": [
    "import seaborn as sns\n",
    "sns.heatmap(df.corr(),annot=True)  # Heatmap visualization using Seaborn for Correlation"
   ]
  },
  {
   "cell_type": "code",
   "execution_count": 21,
   "id": "0a41bd4d",
   "metadata": {},
   "outputs": [],
   "source": [
    "# Now we have to find the Partial Correlation"
   ]
  },
  {
   "cell_type": "code",
   "execution_count": 22,
   "id": "87aa4ec1",
   "metadata": {},
   "outputs": [
    {
     "data": {
      "text/html": [
       "<div>\n",
       "<style scoped>\n",
       "    .dataframe tbody tr th:only-of-type {\n",
       "        vertical-align: middle;\n",
       "    }\n",
       "\n",
       "    .dataframe tbody tr th {\n",
       "        vertical-align: top;\n",
       "    }\n",
       "\n",
       "    .dataframe thead th {\n",
       "        text-align: right;\n",
       "    }\n",
       "</style>\n",
       "<table border=\"1\" class=\"dataframe\">\n",
       "  <thead>\n",
       "    <tr style=\"text-align: right;\">\n",
       "      <th></th>\n",
       "      <th>n</th>\n",
       "      <th>r</th>\n",
       "      <th>CI95%</th>\n",
       "      <th>p-val</th>\n",
       "    </tr>\n",
       "  </thead>\n",
       "  <tbody>\n",
       "    <tr>\n",
       "      <th>pearson</th>\n",
       "      <td>12</td>\n",
       "      <td>0.910789</td>\n",
       "      <td>[0.69, 0.98]</td>\n",
       "      <td>0.000097</td>\n",
       "    </tr>\n",
       "  </tbody>\n",
       "</table>\n",
       "</div>"
      ],
      "text/plain": [
       "          n         r         CI95%     p-val\n",
       "pearson  12  0.910789  [0.69, 0.98]  0.000097"
      ]
     },
     "execution_count": 22,
     "metadata": {},
     "output_type": "execute_result"
    }
   ],
   "source": [
    "#!pip install pingouin\n",
    "import pingouin as pg\n",
    "pg.partial_corr(data=df, x='A', y='B', covar='Z')\n",
    "\n",
    "# Where,\n",
    "# Data = Name of the dataframe.\n",
    "# x  = Name of column in dataframe.\n",
    "# y = Name of column in dataframe.\n",
    "# Here Z is the influencing variable to calculate the Partial Correlation"
   ]
  },
  {
   "cell_type": "code",
   "execution_count": 23,
   "id": "6658ec96",
   "metadata": {},
   "outputs": [],
   "source": [
    "df_Cor = df.pcorr().round(7) "
   ]
  },
  {
   "cell_type": "code",
   "execution_count": 24,
   "id": "3124e7d5",
   "metadata": {},
   "outputs": [],
   "source": [
    "# We got the Partial Cor for A and B as 0.910 and Cor as 0.909"
   ]
  },
  {
   "cell_type": "code",
   "execution_count": 25,
   "id": "47af18b6",
   "metadata": {},
   "outputs": [
    {
     "data": {
      "text/html": [
       "<div>\n",
       "<style scoped>\n",
       "    .dataframe tbody tr th:only-of-type {\n",
       "        vertical-align: middle;\n",
       "    }\n",
       "\n",
       "    .dataframe tbody tr th {\n",
       "        vertical-align: top;\n",
       "    }\n",
       "\n",
       "    .dataframe thead th {\n",
       "        text-align: right;\n",
       "    }\n",
       "</style>\n",
       "<table border=\"1\" class=\"dataframe\">\n",
       "  <thead>\n",
       "    <tr style=\"text-align: right;\">\n",
       "      <th></th>\n",
       "      <th>A</th>\n",
       "      <th>B</th>\n",
       "      <th>Z</th>\n",
       "    </tr>\n",
       "  </thead>\n",
       "  <tbody>\n",
       "    <tr>\n",
       "      <th>A</th>\n",
       "      <td>1.000000</td>\n",
       "      <td>0.910789</td>\n",
       "      <td>0.115264</td>\n",
       "    </tr>\n",
       "    <tr>\n",
       "      <th>B</th>\n",
       "      <td>0.910789</td>\n",
       "      <td>1.000000</td>\n",
       "      <td>-0.118806</td>\n",
       "    </tr>\n",
       "    <tr>\n",
       "      <th>Z</th>\n",
       "      <td>0.115264</td>\n",
       "      <td>-0.118806</td>\n",
       "      <td>1.000000</td>\n",
       "    </tr>\n",
       "  </tbody>\n",
       "</table>\n",
       "</div>"
      ],
      "text/plain": [
       "          A         B         Z\n",
       "A  1.000000  0.910789  0.115264\n",
       "B  0.910789  1.000000 -0.118806\n",
       "Z  0.115264 -0.118806  1.000000"
      ]
     },
     "execution_count": 25,
     "metadata": {},
     "output_type": "execute_result"
    }
   ],
   "source": [
    "df3 = df_Cor\n",
    "df3.head()"
   ]
  },
  {
   "cell_type": "code",
   "execution_count": 26,
   "id": "8c7a3ec4",
   "metadata": {},
   "outputs": [],
   "source": [
    "Pr2_ZAB = df3.loc['Z', 'A']"
   ]
  },
  {
   "cell_type": "code",
   "execution_count": 27,
   "id": "8749fda7",
   "metadata": {},
   "outputs": [
    {
     "data": {
      "text/plain": [
       "0.1152639"
      ]
     },
     "execution_count": 27,
     "metadata": {},
     "output_type": "execute_result"
    }
   ],
   "source": [
    "Pr2_ZAB # Partial Correlation for A"
   ]
  },
  {
   "cell_type": "code",
   "execution_count": 28,
   "id": "241317d6",
   "metadata": {},
   "outputs": [],
   "source": [
    "Pr2_ZBA = df3.loc['Z', 'B']"
   ]
  },
  {
   "cell_type": "code",
   "execution_count": 29,
   "id": "9ae32d4b",
   "metadata": {},
   "outputs": [
    {
     "data": {
      "text/plain": [
       "-0.1188062"
      ]
     },
     "execution_count": 29,
     "metadata": {},
     "output_type": "execute_result"
    }
   ],
   "source": [
    "Pr2_ZBA # Partial Correlation for B"
   ]
  },
  {
   "cell_type": "code",
   "execution_count": 30,
   "id": "427ab276",
   "metadata": {},
   "outputs": [
    {
     "data": {
      "text/plain": [
       "<AxesSubplot:>"
      ]
     },
     "execution_count": 30,
     "metadata": {},
     "output_type": "execute_result"
    },
    {
     "data": {
      "image/png": "[encoded data removed]",
      "text/plain": [
       "<Figure size 432x288 with 2 Axes>"
      ]
     },
     "metadata": {
      "needs_background": "light"
     },
     "output_type": "display_data"
    }
   ],
   "source": [
    "import seaborn as sns\n",
    "sns.heatmap(df.pcorr(),annot=True)  # Heatmap visualization using Seaborn for Partial Correlation"
   ]
  }
 ],
 "metadata": {
  "kernelspec": {
   "display_name": "Python 3 (ipykernel)",
   "language": "python",
   "name": "python3"
  },
  "language_info": {
   "codemirror_mode": {
    "name": "ipython",
    "version": 3
   },
   "file_extension": ".py",
   "mimetype": "text/x-python",
   "name": "python",
   "nbconvert_exporter": "python",
   "pygments_lexer": "ipython3",
   "version": "3.9.7"
  }
 },
 "nbformat": 4,
 "nbformat_minor": 5
}
